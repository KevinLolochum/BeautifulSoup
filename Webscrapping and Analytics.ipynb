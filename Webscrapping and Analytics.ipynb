{
 "cells": [
  {
   "cell_type": "markdown",
   "metadata": {},
   "source": [
    "### CREATING A MODEL TO PREDICT INFLATION RATES"
   ]
  },
  {
   "cell_type": "markdown",
   "metadata": {},
   "source": [
    "Importing important data analytics and visualization libraries."
   ]
  },
  {
   "cell_type": "code",
   "execution_count": 3,
   "metadata": {},
   "outputs": [
    {
     "name": "stderr",
     "output_type": "stream",
     "text": [
      "usage: conda-script.py [-h] [-V] command ...\n",
      "conda-script.py: error: unrecognized arguments: #sometimes seaborn doesn't install properly\n"
     ]
    }
   ],
   "source": [
    "!conda install -c anaconda seaborn -y #sometimes seaborn doesn't install properly\n",
    "import pandas as pd\n",
    "import numpy as np\n",
    "import seaborn as sns\n",
    "import matplotlib.pyplot as plt\n",
    "%matplotlib inline"
   ]
  },
  {
   "cell_type": "markdown",
   "metadata": {},
   "source": [
    "Importing beautifulsoup responsible for pulling data out of HTML adn XML files and beautifying\n",
    "and urlopen which opens the URL."
   ]
  },
  {
   "cell_type": "code",
   "execution_count": 4,
   "metadata": {},
   "outputs": [],
   "source": [
    "from urllib.request import urlopen\n",
    "from bs4 import BeautifulSoup"
   ]
  },
  {
   "cell_type": "markdown",
   "metadata": {},
   "source": [
    "Specifying website and extracting HTML."
   ]
  },
  {
   "cell_type": "code",
   "execution_count": 14,
   "metadata": {},
   "outputs": [],
   "source": [
    "url = 'https://www.centralbank.go.ke/inflation-rates' # do not include the last dash(/) in your URL\n",
    "html_doc = urlopen(url)"
   ]
  },
  {
   "cell_type": "markdown",
   "metadata": {},
   "source": [
    "Running the HTML doc though beautiful soup to get a nested data stracture."
   ]
  },
  {
   "cell_type": "code",
   "execution_count": 15,
   "metadata": {},
   "outputs": [],
   "source": [
    "soup = BeautifulSoup(html_doc, 'lxml')"
   ]
  },
  {
   "cell_type": "markdown",
   "metadata": {},
   "source": [
    "You can explore the document a little bit before cleaning by looking at things like \n",
    "1. titles - < title > \n",
    "2. links - 'a'\n",
    "3. rows - 'tr-\n",
    "4. column headers - 'th' \n",
    " etc."
   ]
  },
  {
   "cell_type": "code",
   "execution_count": 16,
   "metadata": {},
   "outputs": [
    {
     "name": "stdout",
     "output_type": "stream",
     "text": [
      "<title>Inflation Rates | CBK</title>\n"
     ]
    }
   ],
   "source": [
    "title = soup.title\n",
    "print(title)"
   ]
  },
  {
   "cell_type": "code",
   "execution_count": 18,
   "metadata": {},
   "outputs": [],
   "source": [
    "text = soup.get_text()\n",
    "#print(text)"
   ]
  },
  {
   "cell_type": "code",
   "execution_count": 20,
   "metadata": {},
   "outputs": [
    {
     "ename": "SyntaxError",
     "evalue": "unexpected EOF while parsing (<ipython-input-20-0d11547b0027>, line 6)",
     "output_type": "error",
     "traceback": [
      "\u001b[1;36m  File \u001b[1;32m\"<ipython-input-20-0d11547b0027>\"\u001b[1;36m, line \u001b[1;32m6\u001b[0m\n\u001b[1;33m    \u001b[0m\n\u001b[1;37m    ^\u001b[0m\n\u001b[1;31mSyntaxError\u001b[0m\u001b[1;31m:\u001b[0m unexpected EOF while parsing\n"
     ]
    }
   ],
   "source": [
    "# extracting links use the find_all beautiful soup fundtion\n",
    "all_links = soup.find_all('a')\n",
    "\n",
    "for link in all_links:\n",
    "    #print(link.get('href'))\n",
    "    "
   ]
  },
  {
   "cell_type": "code",
   "execution_count": 21,
   "metadata": {},
   "outputs": [
    {
     "name": "stdout",
     "output_type": "stream",
     "text": [
      "[<tr>\n",
      "<th class=\"header sort\" data-class=\"expand\" style=\"\">Year</th><th class=\"header sort\" style=\"\">Month</th><th class=\"header sort numdata float\" style=\"\">Annual Average Inflation</th><th class=\"header sort numdata float\" style=\"\">12-Month Inflation</th> </tr>, <tr>\n",
      "<th class=\"header sort\" data-class=\"expand\" style=\"\">Year</th><th class=\"header sort\" style=\"\">Month</th><th class=\"header sort numdata float\" style=\"\">Annual Average Inflation</th><th class=\"header sort numdata float\" style=\"\">12-Month Inflation</th> </tr>, <tr id=\"table_172_row_0\">\n",
      "<td style=\"\">2020</td>\n",
      "<td style=\"\">February</td>\n",
      "<td style=\"\">5.48</td>\n",
      "<td style=\"\">6.37</td>\n",
      "</tr>, <tr id=\"table_172_row_1\">\n",
      "<td style=\"\">2020</td>\n",
      "<td style=\"\">January</td>\n",
      "<td style=\"\">5.29</td>\n",
      "<td style=\"\">5.78</td>\n",
      "</tr>, <tr id=\"table_172_row_2\">\n",
      "<td style=\"\">2019</td>\n",
      "<td style=\"\">December</td>\n",
      "<td style=\"\">5.20</td>\n",
      "<td style=\"\">5.82</td>\n",
      "</tr>, <tr id=\"table_172_row_3\">\n",
      "<td style=\"\">2019</td>\n",
      "<td style=\"\">November</td>\n",
      "<td style=\"\">5.19</td>\n",
      "<td style=\"\">5.56</td>\n",
      "</tr>, <tr id=\"table_172_row_4\">\n",
      "<td style=\"\">2019</td>\n",
      "<td style=\"\">October</td>\n",
      "<td style=\"\">5.19</td>\n",
      "<td style=\"\">4.95</td>\n",
      "</tr>, <tr id=\"table_172_row_5\">\n",
      "<td style=\"\">2019</td>\n",
      "<td style=\"\">September</td>\n",
      "<td style=\"\">5.24</td>\n",
      "<td style=\"\">3.83</td>\n",
      "</tr>, <tr id=\"table_172_row_6\">\n",
      "<td style=\"\">2019</td>\n",
      "<td style=\"\">August</td>\n",
      "<td style=\"\">5.40</td>\n",
      "<td style=\"\">5.00</td>\n",
      "</tr>, <tr id=\"table_172_row_7\">\n",
      "<td style=\"\">2019</td>\n",
      "<td style=\"\">July</td>\n",
      "<td style=\"\">5.32</td>\n",
      "<td style=\"\">6.27</td>\n",
      "</tr>]\n"
     ]
    }
   ],
   "source": [
    "rows = soup.find_all('tr')\n",
    "print(rows[:10])"
   ]
  },
  {
   "cell_type": "markdown",
   "metadata": {},
   "source": [
    "### Data Cleaning"
   ]
  },
  {
   "cell_type": "markdown",
   "metadata": {},
   "source": [
    "Start by looking for column headers and separate clean them (separate from unwanted data).\n",
    "Will use a mixture of list and beautiful soup methods."
   ]
  },
  {
   "cell_type": "code",
   "execution_count": 23,
   "metadata": {},
   "outputs": [
    {
     "name": "stdout",
     "output_type": "stream",
     "text": [
      "['[Year, Month, Annual Average Inflation, 12-Month Inflation, Year, Month, Annual Average Inflation, 12-Month Inflation]']\n"
     ]
    },
    {
     "data": {
      "text/plain": [
       "list"
      ]
     },
     "execution_count": 23,
     "metadata": {},
     "output_type": "execute_result"
    }
   ],
   "source": [
    "Columns = soup.find_all('th') #beautiful soup method\n",
    "Headers = []                 #empty list\n",
    "Col_str = str(Columns)\n",
    "Clean = BeautifulSoup(Col_str, 'lxml').get_text() #getting the columns headers text only\n",
    "Headers.append(Clean) #list method, adding columns text to an empty list\n",
    "print(Headers)\n",
    "type(Headers)"
   ]
  },
  {
   "cell_type": "markdown",
   "metadata": {},
   "source": [
    "Looks like there are four unique columns,  but are repeated. Will deal with repeated later. Create a dataframe of the column headers.\n",
    "A Dataframe is a 2-D pandas data structure. Like an excel spreadsheet."
   ]
  },
  {
   "cell_type": "code",
   "execution_count": 37,
   "metadata": {},
   "outputs": [
    {
     "data": {
      "text/html": [
       "<div>\n",
       "<style scoped>\n",
       "    .dataframe tbody tr th:only-of-type {\n",
       "        vertical-align: middle;\n",
       "    }\n",
       "\n",
       "    .dataframe tbody tr th {\n",
       "        vertical-align: top;\n",
       "    }\n",
       "\n",
       "    .dataframe thead th {\n",
       "        text-align: right;\n",
       "    }\n",
       "</style>\n",
       "<table border=\"1\" class=\"dataframe\">\n",
       "  <thead>\n",
       "    <tr style=\"text-align: right;\">\n",
       "      <th></th>\n",
       "      <th>0</th>\n",
       "    </tr>\n",
       "  </thead>\n",
       "  <tbody>\n",
       "    <tr>\n",
       "      <th>0</th>\n",
       "      <td>[Year, Month, Annual Average Inflation, 12-Mon...</td>\n",
       "    </tr>\n",
       "  </tbody>\n",
       "</table>\n",
       "</div>"
      ],
      "text/plain": [
       "                                                   0\n",
       "0  [Year, Month, Annual Average Inflation, 12-Mon..."
      ]
     },
     "execution_count": 37,
     "metadata": {},
     "output_type": "execute_result"
    }
   ],
   "source": [
    "df = pd.DataFrame(Headers)\n",
    "df"
   ]
  },
  {
   "cell_type": "markdown",
   "metadata": {},
   "source": [
    "We have a dataframe but it looks like the data is in only the first column, we need to create an many columns as there are comma separation in row 0."
   ]
  },
  {
   "cell_type": "markdown",
   "metadata": {},
   "source": [
    "We will use string function split on the first row."
   ]
  },
  {
   "cell_type": "code",
   "execution_count": 38,
   "metadata": {},
   "outputs": [
    {
     "data": {
      "text/html": [
       "<div>\n",
       "<style scoped>\n",
       "    .dataframe tbody tr th:only-of-type {\n",
       "        vertical-align: middle;\n",
       "    }\n",
       "\n",
       "    .dataframe tbody tr th {\n",
       "        vertical-align: top;\n",
       "    }\n",
       "\n",
       "    .dataframe thead th {\n",
       "        text-align: right;\n",
       "    }\n",
       "</style>\n",
       "<table border=\"1\" class=\"dataframe\">\n",
       "  <thead>\n",
       "    <tr style=\"text-align: right;\">\n",
       "      <th></th>\n",
       "      <th>0</th>\n",
       "      <th>1</th>\n",
       "      <th>2</th>\n",
       "      <th>3</th>\n",
       "      <th>4</th>\n",
       "      <th>5</th>\n",
       "      <th>6</th>\n",
       "      <th>7</th>\n",
       "    </tr>\n",
       "  </thead>\n",
       "  <tbody>\n",
       "    <tr>\n",
       "      <th>0</th>\n",
       "      <td>[Year</td>\n",
       "      <td>Month</td>\n",
       "      <td>Annual Average Inflation</td>\n",
       "      <td>12-Month Inflation</td>\n",
       "      <td>Year</td>\n",
       "      <td>Month</td>\n",
       "      <td>Annual Average Inflation</td>\n",
       "      <td>12-Month Inflation]</td>\n",
       "    </tr>\n",
       "  </tbody>\n",
       "</table>\n",
       "</div>"
      ],
      "text/plain": [
       "       0       1                          2                    3      4  \\\n",
       "0  [Year   Month   Annual Average Inflation   12-Month Inflation   Year   \n",
       "\n",
       "        5                          6                     7  \n",
       "0   Month   Annual Average Inflation   12-Month Inflation]  "
      ]
     },
     "execution_count": 38,
     "metadata": {},
     "output_type": "execute_result"
    }
   ],
   "source": [
    "df = df[0].str.split(',', expand = True)\n",
    "df\n",
    "# df[0] means first row of our dataframe\n",
    "# ',' tells to separate on comma separation\n",
    "# expand = True is self explanatory"
   ]
  },
  {
   "cell_type": "markdown",
   "metadata": {},
   "source": [
    "We will also look for rows from our html data and then separate them and create a pandas dataframe of rows like above"
   ]
  },
  {
   "cell_type": "code",
   "execution_count": 39,
   "metadata": {},
   "outputs": [
    {
     "name": "stdout",
     "output_type": "stream",
     "text": [
      "[2005, January, 12.27, 14.87]\n"
     ]
    },
    {
     "data": {
      "text/plain": [
       "str"
      ]
     },
     "execution_count": 39,
     "metadata": {},
     "output_type": "execute_result"
    }
   ],
   "source": [
    "# Because there are many rows will have to create a for loop to go over each row and apply the cleaning\n",
    "All_rows = [] #creating an empty list to load rows into\n",
    "for row in rows:\n",
    "    row_td = row.find_all('td') # extracting table cells that contain rows\n",
    "    str_cells = str(row_td) # frist converting into string in order to clean.\n",
    "    clean2 = BeautifulSoup(str_cells, 'lxml').get_text() # Removing Tags/ and cleaning.\n",
    "    All_rows.append(clean2) # adding the cleaned text to the dataframe\n",
    "print(clean2)\n",
    "type(clean2)"
   ]
  },
  {
   "cell_type": "code",
   "execution_count": 40,
   "metadata": {},
   "outputs": [
    {
     "data": {
      "text/html": [
       "<div>\n",
       "<style scoped>\n",
       "    .dataframe tbody tr th:only-of-type {\n",
       "        vertical-align: middle;\n",
       "    }\n",
       "\n",
       "    .dataframe tbody tr th {\n",
       "        vertical-align: top;\n",
       "    }\n",
       "\n",
       "    .dataframe thead th {\n",
       "        text-align: right;\n",
       "    }\n",
       "</style>\n",
       "<table border=\"1\" class=\"dataframe\">\n",
       "  <thead>\n",
       "    <tr style=\"text-align: right;\">\n",
       "      <th></th>\n",
       "      <th>0</th>\n",
       "    </tr>\n",
       "  </thead>\n",
       "  <tbody>\n",
       "    <tr>\n",
       "      <th>0</th>\n",
       "      <td>[]</td>\n",
       "    </tr>\n",
       "    <tr>\n",
       "      <th>1</th>\n",
       "      <td>[]</td>\n",
       "    </tr>\n",
       "    <tr>\n",
       "      <th>2</th>\n",
       "      <td>[2020, February, 5.48, 6.37]</td>\n",
       "    </tr>\n",
       "    <tr>\n",
       "      <th>3</th>\n",
       "      <td>[2020, January, 5.29, 5.78]</td>\n",
       "    </tr>\n",
       "    <tr>\n",
       "      <th>4</th>\n",
       "      <td>[2019, December, 5.20, 5.82]</td>\n",
       "    </tr>\n",
       "  </tbody>\n",
       "</table>\n",
       "</div>"
      ],
      "text/plain": [
       "                              0\n",
       "0                            []\n",
       "1                            []\n",
       "2  [2020, February, 5.48, 6.37]\n",
       "3   [2020, January, 5.29, 5.78]\n",
       "4  [2019, December, 5.20, 5.82]"
      ]
     },
     "execution_count": 40,
     "metadata": {},
     "output_type": "execute_result"
    }
   ],
   "source": [
    "df1 = pd.DataFrame(All_rows) # Creating a dataframe of row values.\n",
    "\n",
    "df1.head(5)"
   ]
  },
  {
   "cell_type": "markdown",
   "metadata": {},
   "source": [
    "Separate the df1 values into into four columns."
   ]
  },
  {
   "cell_type": "code",
   "execution_count": 41,
   "metadata": {},
   "outputs": [
    {
     "data": {
      "text/html": [
       "<div>\n",
       "<style scoped>\n",
       "    .dataframe tbody tr th:only-of-type {\n",
       "        vertical-align: middle;\n",
       "    }\n",
       "\n",
       "    .dataframe tbody tr th {\n",
       "        vertical-align: top;\n",
       "    }\n",
       "\n",
       "    .dataframe thead th {\n",
       "        text-align: right;\n",
       "    }\n",
       "</style>\n",
       "<table border=\"1\" class=\"dataframe\">\n",
       "  <thead>\n",
       "    <tr style=\"text-align: right;\">\n",
       "      <th></th>\n",
       "      <th>0</th>\n",
       "      <th>1</th>\n",
       "      <th>2</th>\n",
       "      <th>3</th>\n",
       "    </tr>\n",
       "  </thead>\n",
       "  <tbody>\n",
       "    <tr>\n",
       "      <th>0</th>\n",
       "      <td>[]</td>\n",
       "      <td>None</td>\n",
       "      <td>None</td>\n",
       "      <td>None</td>\n",
       "    </tr>\n",
       "    <tr>\n",
       "      <th>1</th>\n",
       "      <td>[]</td>\n",
       "      <td>None</td>\n",
       "      <td>None</td>\n",
       "      <td>None</td>\n",
       "    </tr>\n",
       "    <tr>\n",
       "      <th>2</th>\n",
       "      <td>[2020</td>\n",
       "      <td>February</td>\n",
       "      <td>5.48</td>\n",
       "      <td>6.37]</td>\n",
       "    </tr>\n",
       "    <tr>\n",
       "      <th>3</th>\n",
       "      <td>[2020</td>\n",
       "      <td>January</td>\n",
       "      <td>5.29</td>\n",
       "      <td>5.78]</td>\n",
       "    </tr>\n",
       "    <tr>\n",
       "      <th>4</th>\n",
       "      <td>[2019</td>\n",
       "      <td>December</td>\n",
       "      <td>5.20</td>\n",
       "      <td>5.82]</td>\n",
       "    </tr>\n",
       "  </tbody>\n",
       "</table>\n",
       "</div>"
      ],
      "text/plain": [
       "       0          1      2       3\n",
       "0     []       None   None    None\n",
       "1     []       None   None    None\n",
       "2  [2020   February   5.48   6.37]\n",
       "3  [2020    January   5.29   5.78]\n",
       "4  [2019   December   5.20   5.82]"
      ]
     },
     "execution_count": 41,
     "metadata": {},
     "output_type": "execute_result"
    }
   ],
   "source": [
    "df1 = df1[0].str.split(',', expand = True)\n",
    "df1.head(5)"
   ]
  },
  {
   "cell_type": "markdown",
   "metadata": {},
   "source": [
    "Joining the two dataframes. The column heads and the values array. You can use pandas function merge, append or concat."
   ]
  },
  {
   "cell_type": "code",
   "execution_count": 43,
   "metadata": {},
   "outputs": [
    {
     "data": {
      "text/html": [
       "<div>\n",
       "<style scoped>\n",
       "    .dataframe tbody tr th:only-of-type {\n",
       "        vertical-align: middle;\n",
       "    }\n",
       "\n",
       "    .dataframe tbody tr th {\n",
       "        vertical-align: top;\n",
       "    }\n",
       "\n",
       "    .dataframe thead th {\n",
       "        text-align: right;\n",
       "    }\n",
       "</style>\n",
       "<table border=\"1\" class=\"dataframe\">\n",
       "  <thead>\n",
       "    <tr style=\"text-align: right;\">\n",
       "      <th></th>\n",
       "      <th>0</th>\n",
       "      <th>1</th>\n",
       "      <th>2</th>\n",
       "      <th>3</th>\n",
       "      <th>4</th>\n",
       "      <th>5</th>\n",
       "      <th>6</th>\n",
       "      <th>7</th>\n",
       "    </tr>\n",
       "  </thead>\n",
       "  <tbody>\n",
       "    <tr>\n",
       "      <th>0</th>\n",
       "      <td>[Year</td>\n",
       "      <td>Month</td>\n",
       "      <td>Annual Average Inflation</td>\n",
       "      <td>12-Month Inflation</td>\n",
       "      <td>Year</td>\n",
       "      <td>Month</td>\n",
       "      <td>Annual Average Inflation</td>\n",
       "      <td>12-Month Inflation]</td>\n",
       "    </tr>\n",
       "    <tr>\n",
       "      <th>0</th>\n",
       "      <td>[]</td>\n",
       "      <td>None</td>\n",
       "      <td>None</td>\n",
       "      <td>None</td>\n",
       "      <td>NaN</td>\n",
       "      <td>NaN</td>\n",
       "      <td>NaN</td>\n",
       "      <td>NaN</td>\n",
       "    </tr>\n",
       "    <tr>\n",
       "      <th>1</th>\n",
       "      <td>[]</td>\n",
       "      <td>None</td>\n",
       "      <td>None</td>\n",
       "      <td>None</td>\n",
       "      <td>NaN</td>\n",
       "      <td>NaN</td>\n",
       "      <td>NaN</td>\n",
       "      <td>NaN</td>\n",
       "    </tr>\n",
       "    <tr>\n",
       "      <th>2</th>\n",
       "      <td>[2020</td>\n",
       "      <td>February</td>\n",
       "      <td>5.48</td>\n",
       "      <td>6.37]</td>\n",
       "      <td>NaN</td>\n",
       "      <td>NaN</td>\n",
       "      <td>NaN</td>\n",
       "      <td>NaN</td>\n",
       "    </tr>\n",
       "    <tr>\n",
       "      <th>3</th>\n",
       "      <td>[2020</td>\n",
       "      <td>January</td>\n",
       "      <td>5.29</td>\n",
       "      <td>5.78]</td>\n",
       "      <td>NaN</td>\n",
       "      <td>NaN</td>\n",
       "      <td>NaN</td>\n",
       "      <td>NaN</td>\n",
       "    </tr>\n",
       "  </tbody>\n",
       "</table>\n",
       "</div>"
      ],
      "text/plain": [
       "       0          1                          2                    3      4  \\\n",
       "0  [Year      Month   Annual Average Inflation   12-Month Inflation   Year   \n",
       "0     []       None                       None                 None    NaN   \n",
       "1     []       None                       None                 None    NaN   \n",
       "2  [2020   February                       5.48                6.37]    NaN   \n",
       "3  [2020    January                       5.29                5.78]    NaN   \n",
       "\n",
       "        5                          6                     7  \n",
       "0   Month   Annual Average Inflation   12-Month Inflation]  \n",
       "0     NaN                        NaN                   NaN  \n",
       "1     NaN                        NaN                   NaN  \n",
       "2     NaN                        NaN                   NaN  \n",
       "3     NaN                        NaN                   NaN  "
      ]
     },
     "execution_count": 43,
     "metadata": {},
     "output_type": "execute_result"
    }
   ],
   "source": [
    "frames = [df, df1]\n",
    "\n",
    "df2 = pd.concat(frames)\n",
    "\n",
    "df2.head(5)\n"
   ]
  },
  {
   "cell_type": "markdown",
   "metadata": {},
   "source": [
    "Delete unwanted columns, from 4 to 7"
   ]
  },
  {
   "cell_type": "code",
   "execution_count": 44,
   "metadata": {},
   "outputs": [
    {
     "data": {
      "text/html": [
       "<div>\n",
       "<style scoped>\n",
       "    .dataframe tbody tr th:only-of-type {\n",
       "        vertical-align: middle;\n",
       "    }\n",
       "\n",
       "    .dataframe tbody tr th {\n",
       "        vertical-align: top;\n",
       "    }\n",
       "\n",
       "    .dataframe thead th {\n",
       "        text-align: right;\n",
       "    }\n",
       "</style>\n",
       "<table border=\"1\" class=\"dataframe\">\n",
       "  <thead>\n",
       "    <tr style=\"text-align: right;\">\n",
       "      <th></th>\n",
       "      <th>0</th>\n",
       "      <th>1</th>\n",
       "      <th>2</th>\n",
       "      <th>3</th>\n",
       "    </tr>\n",
       "  </thead>\n",
       "  <tbody>\n",
       "    <tr>\n",
       "      <th>0</th>\n",
       "      <td>[Year</td>\n",
       "      <td>Month</td>\n",
       "      <td>Annual Average Inflation</td>\n",
       "      <td>12-Month Inflation</td>\n",
       "    </tr>\n",
       "    <tr>\n",
       "      <th>0</th>\n",
       "      <td>[]</td>\n",
       "      <td>None</td>\n",
       "      <td>None</td>\n",
       "      <td>None</td>\n",
       "    </tr>\n",
       "    <tr>\n",
       "      <th>1</th>\n",
       "      <td>[]</td>\n",
       "      <td>None</td>\n",
       "      <td>None</td>\n",
       "      <td>None</td>\n",
       "    </tr>\n",
       "    <tr>\n",
       "      <th>2</th>\n",
       "      <td>[2020</td>\n",
       "      <td>February</td>\n",
       "      <td>5.48</td>\n",
       "      <td>6.37]</td>\n",
       "    </tr>\n",
       "    <tr>\n",
       "      <th>3</th>\n",
       "      <td>[2020</td>\n",
       "      <td>January</td>\n",
       "      <td>5.29</td>\n",
       "      <td>5.78]</td>\n",
       "    </tr>\n",
       "  </tbody>\n",
       "</table>\n",
       "</div>"
      ],
      "text/plain": [
       "       0          1                          2                    3\n",
       "0  [Year      Month   Annual Average Inflation   12-Month Inflation\n",
       "0     []       None                       None                 None\n",
       "1     []       None                       None                 None\n",
       "2  [2020   February                       5.48                6.37]\n",
       "3  [2020    January                       5.29                5.78]"
      ]
     },
     "execution_count": 44,
     "metadata": {},
     "output_type": "execute_result"
    }
   ],
   "source": [
    "df2 = df2.drop(columns = [4, 5, 6, 7])\n",
    "df2.head(5)"
   ]
  },
  {
   "cell_type": "markdown",
   "metadata": {},
   "source": [
    "Promote first row (which is columns) to column heads and clean column names"
   ]
  },
  {
   "cell_type": "code",
   "execution_count": 47,
   "metadata": {},
   "outputs": [
    {
     "data": {
      "text/html": [
       "<div>\n",
       "<style scoped>\n",
       "    .dataframe tbody tr th:only-of-type {\n",
       "        vertical-align: middle;\n",
       "    }\n",
       "\n",
       "    .dataframe tbody tr th {\n",
       "        vertical-align: top;\n",
       "    }\n",
       "\n",
       "    .dataframe thead th {\n",
       "        text-align: right;\n",
       "    }\n",
       "</style>\n",
       "<table border=\"1\" class=\"dataframe\">\n",
       "  <thead>\n",
       "    <tr style=\"text-align: right;\">\n",
       "      <th></th>\n",
       "      <th>[Year</th>\n",
       "      <th>Month</th>\n",
       "      <th>Annual Average Inflation</th>\n",
       "      <th>12-Month Inflation</th>\n",
       "    </tr>\n",
       "  </thead>\n",
       "  <tbody>\n",
       "    <tr>\n",
       "      <th>0</th>\n",
       "      <td>[Year</td>\n",
       "      <td>Month</td>\n",
       "      <td>Annual Average Inflation</td>\n",
       "      <td>12-Month Inflation</td>\n",
       "    </tr>\n",
       "    <tr>\n",
       "      <th>0</th>\n",
       "      <td>[]</td>\n",
       "      <td>None</td>\n",
       "      <td>None</td>\n",
       "      <td>None</td>\n",
       "    </tr>\n",
       "    <tr>\n",
       "      <th>1</th>\n",
       "      <td>[]</td>\n",
       "      <td>None</td>\n",
       "      <td>None</td>\n",
       "      <td>None</td>\n",
       "    </tr>\n",
       "    <tr>\n",
       "      <th>2</th>\n",
       "      <td>[2020</td>\n",
       "      <td>February</td>\n",
       "      <td>5.48</td>\n",
       "      <td>6.37]</td>\n",
       "    </tr>\n",
       "    <tr>\n",
       "      <th>3</th>\n",
       "      <td>[2020</td>\n",
       "      <td>January</td>\n",
       "      <td>5.29</td>\n",
       "      <td>5.78]</td>\n",
       "    </tr>\n",
       "  </tbody>\n",
       "</table>\n",
       "</div>"
      ],
      "text/plain": [
       "   [Year      Month   Annual Average Inflation   12-Month Inflation\n",
       "0  [Year      Month   Annual Average Inflation   12-Month Inflation\n",
       "0     []       None                       None                 None\n",
       "1     []       None                       None                 None\n",
       "2  [2020   February                       5.48                6.37]\n",
       "3  [2020    January                       5.29                5.78]"
      ]
     },
     "execution_count": 47,
     "metadata": {},
     "output_type": "execute_result"
    }
   ],
   "source": [
    "df2 = df2.rename(columns = df2.iloc[0])\n",
    "df2.head()\n"
   ]
  },
  {
   "cell_type": "code",
   "execution_count": 50,
   "metadata": {},
   "outputs": [
    {
     "data": {
      "text/plain": [
       "Index(['[Year', ' Month', ' Annual Average Inflation', ' 12-Month Inflation'], dtype='object')"
      ]
     },
     "execution_count": 50,
     "metadata": {},
     "output_type": "execute_result"
    }
   ],
   "source": [
    "#list the columns to see any anormalies\n",
    "df2.columns"
   ]
  },
  {
   "cell_type": "markdown",
   "metadata": {},
   "source": [
    "Removing unwanted brackets from first and last columns and leading spaces from the other columns."
   ]
  },
  {
   "cell_type": "code",
   "execution_count": 52,
   "metadata": {},
   "outputs": [],
   "source": [
    "# If you wanted to remove only the bracksts\n",
    "#df2['[Year'] = df2['[Year'].str.strip('[')\n",
    "#df2[' 12-Month Inflation'] = df2[' 12-Month Inflation'].str.strip(']')"
   ]
  },
  {
   "cell_type": "code",
   "execution_count": 53,
   "metadata": {},
   "outputs": [
    {
     "data": {
      "text/html": [
       "<div>\n",
       "<style scoped>\n",
       "    .dataframe tbody tr th:only-of-type {\n",
       "        vertical-align: middle;\n",
       "    }\n",
       "\n",
       "    .dataframe tbody tr th {\n",
       "        vertical-align: top;\n",
       "    }\n",
       "\n",
       "    .dataframe thead th {\n",
       "        text-align: right;\n",
       "    }\n",
       "</style>\n",
       "<table border=\"1\" class=\"dataframe\">\n",
       "  <thead>\n",
       "    <tr style=\"text-align: right;\">\n",
       "      <th></th>\n",
       "      <th>Year</th>\n",
       "      <th>Month</th>\n",
       "      <th>Annual_Average_Inflation</th>\n",
       "      <th>Twelve_Month_Inflation</th>\n",
       "    </tr>\n",
       "  </thead>\n",
       "  <tbody>\n",
       "    <tr>\n",
       "      <th>0</th>\n",
       "      <td>[Year</td>\n",
       "      <td>Month</td>\n",
       "      <td>Annual Average Inflation</td>\n",
       "      <td>12-Month Inflation</td>\n",
       "    </tr>\n",
       "    <tr>\n",
       "      <th>0</th>\n",
       "      <td>[]</td>\n",
       "      <td>None</td>\n",
       "      <td>None</td>\n",
       "      <td>None</td>\n",
       "    </tr>\n",
       "    <tr>\n",
       "      <th>1</th>\n",
       "      <td>[]</td>\n",
       "      <td>None</td>\n",
       "      <td>None</td>\n",
       "      <td>None</td>\n",
       "    </tr>\n",
       "    <tr>\n",
       "      <th>2</th>\n",
       "      <td>[2020</td>\n",
       "      <td>February</td>\n",
       "      <td>5.48</td>\n",
       "      <td>6.37]</td>\n",
       "    </tr>\n",
       "    <tr>\n",
       "      <th>3</th>\n",
       "      <td>[2020</td>\n",
       "      <td>January</td>\n",
       "      <td>5.29</td>\n",
       "      <td>5.78]</td>\n",
       "    </tr>\n",
       "  </tbody>\n",
       "</table>\n",
       "</div>"
      ],
      "text/plain": [
       "    Year      Month   Annual_Average_Inflation Twelve_Month_Inflation\n",
       "0  [Year      Month   Annual Average Inflation     12-Month Inflation\n",
       "0     []       None                       None                   None\n",
       "1     []       None                       None                   None\n",
       "2  [2020   February                       5.48                  6.37]\n",
       "3  [2020    January                       5.29                  5.78]"
      ]
     },
     "execution_count": 53,
     "metadata": {},
     "output_type": "execute_result"
    }
   ],
   "source": [
    "df2.rename(columns = {'[Year': 'Year',\n",
    "                      ' Month': 'Month',\n",
    "                      ' Annual Average Inflation': 'Annual_Average_Inflation',\n",
    "                      ' 12-Month Inflation': 'Twelve_Month_Inflation'}, inplace = True)\n",
    "df2.head()\n"
   ]
  },
  {
   "cell_type": "markdown",
   "metadata": {},
   "source": [
    "The first three rows are also unwanted so will remove them using drop and specifying that it is axis = 0 (rows) and giving the row index. Notice two rows have index zero. "
   ]
  },
  {
   "cell_type": "code",
   "execution_count": 59,
   "metadata": {},
   "outputs": [
    {
     "data": {
      "text/html": [
       "<div>\n",
       "<style scoped>\n",
       "    .dataframe tbody tr th:only-of-type {\n",
       "        vertical-align: middle;\n",
       "    }\n",
       "\n",
       "    .dataframe tbody tr th {\n",
       "        vertical-align: top;\n",
       "    }\n",
       "\n",
       "    .dataframe thead th {\n",
       "        text-align: right;\n",
       "    }\n",
       "</style>\n",
       "<table border=\"1\" class=\"dataframe\">\n",
       "  <thead>\n",
       "    <tr style=\"text-align: right;\">\n",
       "      <th></th>\n",
       "      <th>Year</th>\n",
       "      <th>Month</th>\n",
       "      <th>Annual_Average_Inflation</th>\n",
       "      <th>Twelve_Month_Inflation</th>\n",
       "    </tr>\n",
       "  </thead>\n",
       "  <tbody>\n",
       "    <tr>\n",
       "      <th>2</th>\n",
       "      <td>[2020</td>\n",
       "      <td>February</td>\n",
       "      <td>5.48</td>\n",
       "      <td>6.37]</td>\n",
       "    </tr>\n",
       "    <tr>\n",
       "      <th>3</th>\n",
       "      <td>[2020</td>\n",
       "      <td>January</td>\n",
       "      <td>5.29</td>\n",
       "      <td>5.78]</td>\n",
       "    </tr>\n",
       "    <tr>\n",
       "      <th>4</th>\n",
       "      <td>[2019</td>\n",
       "      <td>December</td>\n",
       "      <td>5.20</td>\n",
       "      <td>5.82]</td>\n",
       "    </tr>\n",
       "  </tbody>\n",
       "</table>\n",
       "</div>"
      ],
      "text/plain": [
       "    Year      Month Annual_Average_Inflation Twelve_Month_Inflation\n",
       "2  [2020   February                     5.48                  6.37]\n",
       "3  [2020    January                     5.29                  5.78]\n",
       "4  [2019   December                     5.20                  5.82]"
      ]
     },
     "execution_count": 59,
     "metadata": {},
     "output_type": "execute_result"
    }
   ],
   "source": [
    "#df2 = df2.drop([0,1], axis = 0) # already dropped.\n",
    "df2.head(3)\n",
    "# You could reset index using df2.reset_index() but we will replace this index later."
   ]
  },
  {
   "cell_type": "markdown",
   "metadata": {},
   "source": [
    "First and last columns have brackets in their rows which we don't want, we can remove using string method, split, because the data is a string."
   ]
  },
  {
   "cell_type": "code",
   "execution_count": 61,
   "metadata": {},
   "outputs": [
    {
     "data": {
      "text/html": [
       "<div>\n",
       "<style scoped>\n",
       "    .dataframe tbody tr th:only-of-type {\n",
       "        vertical-align: middle;\n",
       "    }\n",
       "\n",
       "    .dataframe tbody tr th {\n",
       "        vertical-align: top;\n",
       "    }\n",
       "\n",
       "    .dataframe thead th {\n",
       "        text-align: right;\n",
       "    }\n",
       "</style>\n",
       "<table border=\"1\" class=\"dataframe\">\n",
       "  <thead>\n",
       "    <tr style=\"text-align: right;\">\n",
       "      <th></th>\n",
       "      <th>Year</th>\n",
       "      <th>Month</th>\n",
       "      <th>Annual_Average_Inflation</th>\n",
       "      <th>Twelve_Month_Inflation</th>\n",
       "    </tr>\n",
       "  </thead>\n",
       "  <tbody>\n",
       "    <tr>\n",
       "      <th>2</th>\n",
       "      <td>2020</td>\n",
       "      <td>February</td>\n",
       "      <td>5.48</td>\n",
       "      <td>6.37</td>\n",
       "    </tr>\n",
       "    <tr>\n",
       "      <th>3</th>\n",
       "      <td>2020</td>\n",
       "      <td>January</td>\n",
       "      <td>5.29</td>\n",
       "      <td>5.78</td>\n",
       "    </tr>\n",
       "    <tr>\n",
       "      <th>4</th>\n",
       "      <td>2019</td>\n",
       "      <td>December</td>\n",
       "      <td>5.20</td>\n",
       "      <td>5.82</td>\n",
       "    </tr>\n",
       "  </tbody>\n",
       "</table>\n",
       "</div>"
      ],
      "text/plain": [
       "   Year      Month Annual_Average_Inflation Twelve_Month_Inflation\n",
       "2  2020   February                     5.48                   6.37\n",
       "3  2020    January                     5.29                   5.78\n",
       "4  2019   December                     5.20                   5.82"
      ]
     },
     "execution_count": 61,
     "metadata": {},
     "output_type": "execute_result"
    }
   ],
   "source": [
    "\n",
    "df2['Year'] = df2['Year'].str.strip('[')\n",
    "df2['Twelve_Month_Inflation'] = df2['Twelve_Month_Inflation'].str.strip(']')\n",
    "df2.head(3)"
   ]
  },
  {
   "cell_type": "code",
   "execution_count": 62,
   "metadata": {},
   "outputs": [
    {
     "data": {
      "text/plain": [
       "(183, 4)"
      ]
     },
     "execution_count": 62,
     "metadata": {},
     "output_type": "execute_result"
    }
   ],
   "source": [
    "df2.shape"
   ]
  },
  {
   "cell_type": "code",
   "execution_count": 63,
   "metadata": {},
   "outputs": [
    {
     "data": {
      "text/plain": [
       "Year                        object\n",
       "Month                       object\n",
       "Annual_Average_Inflation    object\n",
       "Twelve_Month_Inflation      object\n",
       "dtype: object"
      ]
     },
     "execution_count": 63,
     "metadata": {},
     "output_type": "execute_result"
    }
   ],
   "source": [
    "df2.dtypes"
   ]
  },
  {
   "cell_type": "markdown",
   "metadata": {},
   "source": [
    "Data type for inflation is definitely not an object. Chnangin it to float."
   ]
  },
  {
   "cell_type": "code",
   "execution_count": 64,
   "metadata": {},
   "outputs": [],
   "source": [
    "df2 = df2.astype({'Annual_Average_Inflation': float, 'Twelve_Month_Inflation': float})"
   ]
  },
  {
   "cell_type": "code",
   "execution_count": 67,
   "metadata": {},
   "outputs": [
    {
     "data": {
      "text/plain": [
       "Year                         object\n",
       "Month                        object\n",
       "Annual_Average_Inflation    float64\n",
       "Twelve_Month_Inflation      float64\n",
       "dtype: object"
      ]
     },
     "execution_count": 67,
     "metadata": {},
     "output_type": "execute_result"
    }
   ],
   "source": [
    "df2.dtypes"
   ]
  },
  {
   "cell_type": "markdown",
   "metadata": {},
   "source": [
    "In the month column, there is some whitespace the I need to remove because I want to do date conversion."
   ]
  },
  {
   "cell_type": "code",
   "execution_count": 70,
   "metadata": {},
   "outputs": [],
   "source": [
    "# Removing spaces from month column using this function.\n",
    "def Clean(x):\n",
    "    x = x.replace(' ', '')\n",
    "    return str(x)\n",
    "df2['Month'] = df2['Month'].apply(Clean)"
   ]
  },
  {
   "cell_type": "markdown",
   "metadata": {},
   "source": [
    "Converting month into numeric so that we can convert month and year to date."
   ]
  },
  {
   "cell_type": "code",
   "execution_count": 71,
   "metadata": {},
   "outputs": [
    {
     "data": {
      "text/html": [
       "<div>\n",
       "<style scoped>\n",
       "    .dataframe tbody tr th:only-of-type {\n",
       "        vertical-align: middle;\n",
       "    }\n",
       "\n",
       "    .dataframe tbody tr th {\n",
       "        vertical-align: top;\n",
       "    }\n",
       "\n",
       "    .dataframe thead th {\n",
       "        text-align: right;\n",
       "    }\n",
       "</style>\n",
       "<table border=\"1\" class=\"dataframe\">\n",
       "  <thead>\n",
       "    <tr style=\"text-align: right;\">\n",
       "      <th></th>\n",
       "      <th>Year</th>\n",
       "      <th>Month</th>\n",
       "      <th>Annual_Average_Inflation</th>\n",
       "      <th>Twelve_Month_Inflation</th>\n",
       "    </tr>\n",
       "  </thead>\n",
       "  <tbody>\n",
       "    <tr>\n",
       "      <th>2</th>\n",
       "      <td>2020</td>\n",
       "      <td>2</td>\n",
       "      <td>5.48</td>\n",
       "      <td>6.37</td>\n",
       "    </tr>\n",
       "    <tr>\n",
       "      <th>3</th>\n",
       "      <td>2020</td>\n",
       "      <td>1</td>\n",
       "      <td>5.29</td>\n",
       "      <td>5.78</td>\n",
       "    </tr>\n",
       "    <tr>\n",
       "      <th>4</th>\n",
       "      <td>2019</td>\n",
       "      <td>12</td>\n",
       "      <td>5.20</td>\n",
       "      <td>5.82</td>\n",
       "    </tr>\n",
       "    <tr>\n",
       "      <th>5</th>\n",
       "      <td>2019</td>\n",
       "      <td>11</td>\n",
       "      <td>5.19</td>\n",
       "      <td>5.56</td>\n",
       "    </tr>\n",
       "    <tr>\n",
       "      <th>6</th>\n",
       "      <td>2019</td>\n",
       "      <td>10</td>\n",
       "      <td>5.19</td>\n",
       "      <td>4.95</td>\n",
       "    </tr>\n",
       "  </tbody>\n",
       "</table>\n",
       "</div>"
      ],
      "text/plain": [
       "   Year  Month  Annual_Average_Inflation  Twelve_Month_Inflation\n",
       "2  2020      2                      5.48                    6.37\n",
       "3  2020      1                      5.29                    5.78\n",
       "4  2019     12                      5.20                    5.82\n",
       "5  2019     11                      5.19                    5.56\n",
       "6  2019     10                      5.19                    4.95"
      ]
     },
     "execution_count": 71,
     "metadata": {},
     "output_type": "execute_result"
    }
   ],
   "source": [
    "# We need to import calendar and datetime\n",
    "import calendar\n",
    "from datetime import date\n",
    "\n",
    "df2['Month'] = pd.to_datetime(df2.Month, format='%B').dt.month #too_datetime coverts word dates to numeric dates\n",
    "df2.head()\n"
   ]
  },
  {
   "cell_type": "markdown",
   "metadata": {},
   "source": [
    "Create a date column."
   ]
  },
  {
   "cell_type": "code",
   "execution_count": 72,
   "metadata": {},
   "outputs": [
    {
     "data": {
      "text/html": [
       "<div>\n",
       "<style scoped>\n",
       "    .dataframe tbody tr th:only-of-type {\n",
       "        vertical-align: middle;\n",
       "    }\n",
       "\n",
       "    .dataframe tbody tr th {\n",
       "        vertical-align: top;\n",
       "    }\n",
       "\n",
       "    .dataframe thead th {\n",
       "        text-align: right;\n",
       "    }\n",
       "</style>\n",
       "<table border=\"1\" class=\"dataframe\">\n",
       "  <thead>\n",
       "    <tr style=\"text-align: right;\">\n",
       "      <th></th>\n",
       "      <th>Year</th>\n",
       "      <th>Month</th>\n",
       "      <th>Annual_Average_Inflation</th>\n",
       "      <th>Twelve_Month_Inflation</th>\n",
       "      <th>DATE</th>\n",
       "    </tr>\n",
       "  </thead>\n",
       "  <tbody>\n",
       "    <tr>\n",
       "      <th>2</th>\n",
       "      <td>2020</td>\n",
       "      <td>2</td>\n",
       "      <td>5.48</td>\n",
       "      <td>6.37</td>\n",
       "      <td>2020-02-01</td>\n",
       "    </tr>\n",
       "    <tr>\n",
       "      <th>3</th>\n",
       "      <td>2020</td>\n",
       "      <td>1</td>\n",
       "      <td>5.29</td>\n",
       "      <td>5.78</td>\n",
       "      <td>2020-01-01</td>\n",
       "    </tr>\n",
       "    <tr>\n",
       "      <th>4</th>\n",
       "      <td>2019</td>\n",
       "      <td>12</td>\n",
       "      <td>5.20</td>\n",
       "      <td>5.82</td>\n",
       "      <td>2019-12-01</td>\n",
       "    </tr>\n",
       "    <tr>\n",
       "      <th>5</th>\n",
       "      <td>2019</td>\n",
       "      <td>11</td>\n",
       "      <td>5.19</td>\n",
       "      <td>5.56</td>\n",
       "      <td>2019-11-01</td>\n",
       "    </tr>\n",
       "    <tr>\n",
       "      <th>6</th>\n",
       "      <td>2019</td>\n",
       "      <td>10</td>\n",
       "      <td>5.19</td>\n",
       "      <td>4.95</td>\n",
       "      <td>2019-10-01</td>\n",
       "    </tr>\n",
       "  </tbody>\n",
       "</table>\n",
       "</div>"
      ],
      "text/plain": [
       "   Year  Month  Annual_Average_Inflation  Twelve_Month_Inflation       DATE\n",
       "2  2020      2                      5.48                    6.37 2020-02-01\n",
       "3  2020      1                      5.29                    5.78 2020-01-01\n",
       "4  2019     12                      5.20                    5.82 2019-12-01\n",
       "5  2019     11                      5.19                    5.56 2019-11-01\n",
       "6  2019     10                      5.19                    4.95 2019-10-01"
      ]
     },
     "execution_count": 72,
     "metadata": {},
     "output_type": "execute_result"
    }
   ],
   "source": [
    "import calendar\n",
    "from datetime import date\n",
    "\n",
    "df2['DATE'] = pd.to_datetime(df2[['Year', 'Month']].assign(DAY=1)) \n",
    "# since we don't have days I will assign each month day one (first day of each month)\n",
    "# DATE is a new column., we are taking year and month from previous and adding day.\n",
    "df2.head()\n"
   ]
  },
  {
   "cell_type": "markdown",
   "metadata": {},
   "source": [
    "Set date to be the dataframe index."
   ]
  },
  {
   "cell_type": "code",
   "execution_count": 73,
   "metadata": {},
   "outputs": [
    {
     "data": {
      "text/html": [
       "<div>\n",
       "<style scoped>\n",
       "    .dataframe tbody tr th:only-of-type {\n",
       "        vertical-align: middle;\n",
       "    }\n",
       "\n",
       "    .dataframe tbody tr th {\n",
       "        vertical-align: top;\n",
       "    }\n",
       "\n",
       "    .dataframe thead th {\n",
       "        text-align: right;\n",
       "    }\n",
       "</style>\n",
       "<table border=\"1\" class=\"dataframe\">\n",
       "  <thead>\n",
       "    <tr style=\"text-align: right;\">\n",
       "      <th></th>\n",
       "      <th>Year</th>\n",
       "      <th>Month</th>\n",
       "      <th>Annual_Average_Inflation</th>\n",
       "      <th>Twelve_Month_Inflation</th>\n",
       "    </tr>\n",
       "    <tr>\n",
       "      <th>DATE</th>\n",
       "      <th></th>\n",
       "      <th></th>\n",
       "      <th></th>\n",
       "      <th></th>\n",
       "    </tr>\n",
       "  </thead>\n",
       "  <tbody>\n",
       "    <tr>\n",
       "      <th>2020-02-01</th>\n",
       "      <td>2020</td>\n",
       "      <td>2</td>\n",
       "      <td>5.48</td>\n",
       "      <td>6.37</td>\n",
       "    </tr>\n",
       "    <tr>\n",
       "      <th>2020-01-01</th>\n",
       "      <td>2020</td>\n",
       "      <td>1</td>\n",
       "      <td>5.29</td>\n",
       "      <td>5.78</td>\n",
       "    </tr>\n",
       "    <tr>\n",
       "      <th>2019-12-01</th>\n",
       "      <td>2019</td>\n",
       "      <td>12</td>\n",
       "      <td>5.20</td>\n",
       "      <td>5.82</td>\n",
       "    </tr>\n",
       "    <tr>\n",
       "      <th>2019-11-01</th>\n",
       "      <td>2019</td>\n",
       "      <td>11</td>\n",
       "      <td>5.19</td>\n",
       "      <td>5.56</td>\n",
       "    </tr>\n",
       "    <tr>\n",
       "      <th>2019-10-01</th>\n",
       "      <td>2019</td>\n",
       "      <td>10</td>\n",
       "      <td>5.19</td>\n",
       "      <td>4.95</td>\n",
       "    </tr>\n",
       "  </tbody>\n",
       "</table>\n",
       "</div>"
      ],
      "text/plain": [
       "            Year  Month  Annual_Average_Inflation  Twelve_Month_Inflation\n",
       "DATE                                                                     \n",
       "2020-02-01  2020      2                      5.48                    6.37\n",
       "2020-01-01  2020      1                      5.29                    5.78\n",
       "2019-12-01  2019     12                      5.20                    5.82\n",
       "2019-11-01  2019     11                      5.19                    5.56\n",
       "2019-10-01  2019     10                      5.19                    4.95"
      ]
     },
     "execution_count": 73,
     "metadata": {},
     "output_type": "execute_result"
    }
   ],
   "source": [
    "df2 = df2.set_index('DATE')\n",
    "df2.head()"
   ]
  },
  {
   "cell_type": "markdown",
   "metadata": {},
   "source": [
    "### DATA ANALYSIS AND VISUALIZATION:"
   ]
  },
  {
   "cell_type": "markdown",
   "metadata": {},
   "source": [
    "Data looks resonably clean for analysis and viasuzlization."
   ]
  },
  {
   "cell_type": "markdown",
   "metadata": {},
   "source": [
    "You can export the data to excel and Use Power BI/ Tableau for ease in Analysis or do Analysis in Python."
   ]
  },
  {
   "cell_type": "markdown",
   "metadata": {},
   "source": [
    "Exporting"
   ]
  },
  {
   "cell_type": "code",
   "execution_count": 74,
   "metadata": {},
   "outputs": [],
   "source": [
    "#df2.to_csv(\"output_excel_file.xlsx\", sheet_name = 'Inflation_rates', index=False)\n",
    "df2.to_csv(\"Ke_Inflation.csv\", index=False, encoding='utf8')"
   ]
  },
  {
   "cell_type": "markdown",
   "metadata": {},
   "source": [
    "Summary stats for the  inflation columns."
   ]
  },
  {
   "cell_type": "code",
   "execution_count": 83,
   "metadata": {},
   "outputs": [
    {
     "data": {
      "text/html": [
       "<div>\n",
       "<style scoped>\n",
       "    .dataframe tbody tr th:only-of-type {\n",
       "        vertical-align: middle;\n",
       "    }\n",
       "\n",
       "    .dataframe tbody tr th {\n",
       "        vertical-align: top;\n",
       "    }\n",
       "\n",
       "    .dataframe thead th {\n",
       "        text-align: right;\n",
       "    }\n",
       "</style>\n",
       "<table border=\"1\" class=\"dataframe\">\n",
       "  <thead>\n",
       "    <tr style=\"text-align: right;\">\n",
       "      <th></th>\n",
       "      <th>Twelve_Month_Inflation</th>\n",
       "      <th>Annual_Average_Inflation</th>\n",
       "    </tr>\n",
       "  </thead>\n",
       "  <tbody>\n",
       "    <tr>\n",
       "      <th>count</th>\n",
       "      <td>183.000000</td>\n",
       "      <td>183.000000</td>\n",
       "    </tr>\n",
       "    <tr>\n",
       "      <th>mean</th>\n",
       "      <td>7.794863</td>\n",
       "      <td>8.014098</td>\n",
       "    </tr>\n",
       "    <tr>\n",
       "      <th>std</th>\n",
       "      <td>4.343733</td>\n",
       "      <td>3.643949</td>\n",
       "    </tr>\n",
       "    <tr>\n",
       "      <th>min</th>\n",
       "      <td>1.850000</td>\n",
       "      <td>3.930000</td>\n",
       "    </tr>\n",
       "    <tr>\n",
       "      <th>25%</th>\n",
       "      <td>4.870000</td>\n",
       "      <td>5.305000</td>\n",
       "    </tr>\n",
       "    <tr>\n",
       "      <th>50%</th>\n",
       "      <td>6.400000</td>\n",
       "      <td>6.630000</td>\n",
       "    </tr>\n",
       "    <tr>\n",
       "      <th>75%</th>\n",
       "      <td>8.945000</td>\n",
       "      <td>9.370000</td>\n",
       "    </tr>\n",
       "    <tr>\n",
       "      <th>max</th>\n",
       "      <td>19.720000</td>\n",
       "      <td>17.070000</td>\n",
       "    </tr>\n",
       "  </tbody>\n",
       "</table>\n",
       "</div>"
      ],
      "text/plain": [
       "       Twelve_Month_Inflation  Annual_Average_Inflation\n",
       "count              183.000000                183.000000\n",
       "mean                 7.794863                  8.014098\n",
       "std                  4.343733                  3.643949\n",
       "min                  1.850000                  3.930000\n",
       "25%                  4.870000                  5.305000\n",
       "50%                  6.400000                  6.630000\n",
       "75%                  8.945000                  9.370000\n",
       "max                 19.720000                 17.070000"
      ]
     },
     "execution_count": 83,
     "metadata": {},
     "output_type": "execute_result"
    }
   ],
   "source": [
    "df2[['Twelve_Month_Inflation', 'Annual_Average_Inflation']].describe()\n",
    "# all the columns by using df10.describe(include = 'all')"
   ]
  },
  {
   "cell_type": "markdown",
   "metadata": {},
   "source": [
    "You can also calculate annual summary stats."
   ]
  },
  {
   "cell_type": "code",
   "execution_count": 84,
   "metadata": {},
   "outputs": [
    {
     "data": {
      "text/html": [
       "<div>\n",
       "<style scoped>\n",
       "    .dataframe tbody tr th:only-of-type {\n",
       "        vertical-align: middle;\n",
       "    }\n",
       "\n",
       "    .dataframe tbody tr th {\n",
       "        vertical-align: top;\n",
       "    }\n",
       "\n",
       "    .dataframe thead tr th {\n",
       "        text-align: left;\n",
       "    }\n",
       "\n",
       "    .dataframe thead tr:last-of-type th {\n",
       "        text-align: right;\n",
       "    }\n",
       "</style>\n",
       "<table border=\"1\" class=\"dataframe\">\n",
       "  <thead>\n",
       "    <tr>\n",
       "      <th></th>\n",
       "      <th colspan=\"4\" halign=\"left\">Month</th>\n",
       "      <th colspan=\"4\" halign=\"left\">Annual_Average_Inflation</th>\n",
       "      <th colspan=\"4\" halign=\"left\">Twelve_Month_Inflation</th>\n",
       "    </tr>\n",
       "    <tr>\n",
       "      <th></th>\n",
       "      <th>mean</th>\n",
       "      <th>std</th>\n",
       "      <th>var</th>\n",
       "      <th>median</th>\n",
       "      <th>mean</th>\n",
       "      <th>std</th>\n",
       "      <th>var</th>\n",
       "      <th>median</th>\n",
       "      <th>mean</th>\n",
       "      <th>std</th>\n",
       "      <th>var</th>\n",
       "      <th>median</th>\n",
       "    </tr>\n",
       "    <tr>\n",
       "      <th>Year</th>\n",
       "      <th></th>\n",
       "      <th></th>\n",
       "      <th></th>\n",
       "      <th></th>\n",
       "      <th></th>\n",
       "      <th></th>\n",
       "      <th></th>\n",
       "      <th></th>\n",
       "      <th></th>\n",
       "      <th></th>\n",
       "      <th></th>\n",
       "      <th></th>\n",
       "    </tr>\n",
       "  </thead>\n",
       "  <tbody>\n",
       "    <tr>\n",
       "      <th>2005</th>\n",
       "      <td>6.500000</td>\n",
       "      <td>3.605551</td>\n",
       "      <td>13.000000</td>\n",
       "      <td>6.5</td>\n",
       "      <td>13.105833</td>\n",
       "      <td>1.686478</td>\n",
       "      <td>2.844208</td>\n",
       "      <td>13.155</td>\n",
       "      <td>10.116667</td>\n",
       "      <td>4.896109</td>\n",
       "      <td>23.971879</td>\n",
       "      <td>11.840</td>\n",
       "    </tr>\n",
       "    <tr>\n",
       "      <th>2006</th>\n",
       "      <td>6.500000</td>\n",
       "      <td>3.605551</td>\n",
       "      <td>13.000000</td>\n",
       "      <td>6.5</td>\n",
       "      <td>6.956667</td>\n",
       "      <td>1.376473</td>\n",
       "      <td>1.894679</td>\n",
       "      <td>6.360</td>\n",
       "      <td>6.416667</td>\n",
       "      <td>1.859757</td>\n",
       "      <td>3.458697</td>\n",
       "      <td>6.240</td>\n",
       "    </tr>\n",
       "    <tr>\n",
       "      <th>2007</th>\n",
       "      <td>6.500000</td>\n",
       "      <td>3.605551</td>\n",
       "      <td>13.000000</td>\n",
       "      <td>6.5</td>\n",
       "      <td>4.765000</td>\n",
       "      <td>0.531764</td>\n",
       "      <td>0.282773</td>\n",
       "      <td>4.570</td>\n",
       "      <td>4.265833</td>\n",
       "      <td>1.593067</td>\n",
       "      <td>2.537863</td>\n",
       "      <td>4.965</td>\n",
       "    </tr>\n",
       "    <tr>\n",
       "      <th>2008</th>\n",
       "      <td>6.500000</td>\n",
       "      <td>3.605551</td>\n",
       "      <td>13.000000</td>\n",
       "      <td>6.5</td>\n",
       "      <td>10.286667</td>\n",
       "      <td>3.935956</td>\n",
       "      <td>15.491752</td>\n",
       "      <td>10.345</td>\n",
       "      <td>16.230833</td>\n",
       "      <td>3.528516</td>\n",
       "      <td>12.450427</td>\n",
       "      <td>17.850</td>\n",
       "    </tr>\n",
       "    <tr>\n",
       "      <th>2009</th>\n",
       "      <td>6.500000</td>\n",
       "      <td>3.605551</td>\n",
       "      <td>13.000000</td>\n",
       "      <td>6.5</td>\n",
       "      <td>14.111667</td>\n",
       "      <td>2.744578</td>\n",
       "      <td>7.532706</td>\n",
       "      <td>14.730</td>\n",
       "      <td>9.385000</td>\n",
       "      <td>3.507290</td>\n",
       "      <td>12.301082</td>\n",
       "      <td>8.520</td>\n",
       "    </tr>\n",
       "    <tr>\n",
       "      <th>2010</th>\n",
       "      <td>6.500000</td>\n",
       "      <td>3.605551</td>\n",
       "      <td>13.000000</td>\n",
       "      <td>6.5</td>\n",
       "      <td>5.614167</td>\n",
       "      <td>1.568488</td>\n",
       "      <td>2.460154</td>\n",
       "      <td>5.230</td>\n",
       "      <td>3.971667</td>\n",
       "      <td>0.850228</td>\n",
       "      <td>0.722888</td>\n",
       "      <td>3.750</td>\n",
       "    </tr>\n",
       "    <tr>\n",
       "      <th>2011</th>\n",
       "      <td>6.500000</td>\n",
       "      <td>3.605551</td>\n",
       "      <td>13.000000</td>\n",
       "      <td>6.5</td>\n",
       "      <td>7.991667</td>\n",
       "      <td>3.505351</td>\n",
       "      <td>12.287488</td>\n",
       "      <td>7.380</td>\n",
       "      <td>13.975833</td>\n",
       "      <td>4.853828</td>\n",
       "      <td>23.559645</td>\n",
       "      <td>15.005</td>\n",
       "    </tr>\n",
       "    <tr>\n",
       "      <th>2012</th>\n",
       "      <td>6.500000</td>\n",
       "      <td>3.605551</td>\n",
       "      <td>13.000000</td>\n",
       "      <td>6.5</td>\n",
       "      <td>14.277500</td>\n",
       "      <td>2.419711</td>\n",
       "      <td>5.855002</td>\n",
       "      <td>15.185</td>\n",
       "      <td>9.640000</td>\n",
       "      <td>5.447800</td>\n",
       "      <td>29.678527</td>\n",
       "      <td>8.895</td>\n",
       "    </tr>\n",
       "    <tr>\n",
       "      <th>2013</th>\n",
       "      <td>6.500000</td>\n",
       "      <td>3.605551</td>\n",
       "      <td>13.000000</td>\n",
       "      <td>6.5</td>\n",
       "      <td>5.562500</td>\n",
       "      <td>1.171480</td>\n",
       "      <td>1.372366</td>\n",
       "      <td>5.220</td>\n",
       "      <td>5.715833</td>\n",
       "      <td>1.674631</td>\n",
       "      <td>2.804390</td>\n",
       "      <td>5.470</td>\n",
       "    </tr>\n",
       "    <tr>\n",
       "      <th>2014</th>\n",
       "      <td>6.500000</td>\n",
       "      <td>3.605551</td>\n",
       "      <td>13.000000</td>\n",
       "      <td>6.5</td>\n",
       "      <td>6.810833</td>\n",
       "      <td>0.421156</td>\n",
       "      <td>0.177372</td>\n",
       "      <td>6.925</td>\n",
       "      <td>6.884167</td>\n",
       "      <td>0.713359</td>\n",
       "      <td>0.508881</td>\n",
       "      <td>6.730</td>\n",
       "    </tr>\n",
       "    <tr>\n",
       "      <th>2015</th>\n",
       "      <td>6.500000</td>\n",
       "      <td>3.605551</td>\n",
       "      <td>13.000000</td>\n",
       "      <td>6.5</td>\n",
       "      <td>6.537500</td>\n",
       "      <td>0.156735</td>\n",
       "      <td>0.024566</td>\n",
       "      <td>6.605</td>\n",
       "      <td>6.575833</td>\n",
       "      <td>0.749915</td>\n",
       "      <td>0.562372</td>\n",
       "      <td>6.670</td>\n",
       "    </tr>\n",
       "    <tr>\n",
       "      <th>2016</th>\n",
       "      <td>6.500000</td>\n",
       "      <td>3.605551</td>\n",
       "      <td>13.000000</td>\n",
       "      <td>6.5</td>\n",
       "      <td>6.575833</td>\n",
       "      <td>0.189039</td>\n",
       "      <td>0.035736</td>\n",
       "      <td>6.490</td>\n",
       "      <td>6.303333</td>\n",
       "      <td>0.719486</td>\n",
       "      <td>0.517661</td>\n",
       "      <td>6.375</td>\n",
       "    </tr>\n",
       "    <tr>\n",
       "      <th>2017</th>\n",
       "      <td>6.500000</td>\n",
       "      <td>3.605551</td>\n",
       "      <td>13.000000</td>\n",
       "      <td>6.5</td>\n",
       "      <td>7.670833</td>\n",
       "      <td>0.790736</td>\n",
       "      <td>0.625263</td>\n",
       "      <td>8.055</td>\n",
       "      <td>8.018333</td>\n",
       "      <td>2.409601</td>\n",
       "      <td>5.806179</td>\n",
       "      <td>7.755</td>\n",
       "    </tr>\n",
       "    <tr>\n",
       "      <th>2018</th>\n",
       "      <td>6.500000</td>\n",
       "      <td>3.605551</td>\n",
       "      <td>13.000000</td>\n",
       "      <td>6.5</td>\n",
       "      <td>5.587500</td>\n",
       "      <td>1.197324</td>\n",
       "      <td>1.433584</td>\n",
       "      <td>5.075</td>\n",
       "      <td>4.695000</td>\n",
       "      <td>0.742594</td>\n",
       "      <td>0.551445</td>\n",
       "      <td>4.405</td>\n",
       "    </tr>\n",
       "    <tr>\n",
       "      <th>2019</th>\n",
       "      <td>6.307692</td>\n",
       "      <td>3.520999</td>\n",
       "      <td>12.397436</td>\n",
       "      <td>6.0</td>\n",
       "      <td>5.043077</td>\n",
       "      <td>0.255812</td>\n",
       "      <td>0.065440</td>\n",
       "      <td>5.160</td>\n",
       "      <td>5.228462</td>\n",
       "      <td>0.925868</td>\n",
       "      <td>0.857231</td>\n",
       "      <td>5.000</td>\n",
       "    </tr>\n",
       "    <tr>\n",
       "      <th>2020</th>\n",
       "      <td>1.500000</td>\n",
       "      <td>0.707107</td>\n",
       "      <td>0.500000</td>\n",
       "      <td>1.5</td>\n",
       "      <td>5.385000</td>\n",
       "      <td>0.134350</td>\n",
       "      <td>0.018050</td>\n",
       "      <td>5.385</td>\n",
       "      <td>6.075000</td>\n",
       "      <td>0.417193</td>\n",
       "      <td>0.174050</td>\n",
       "      <td>6.075</td>\n",
       "    </tr>\n",
       "  </tbody>\n",
       "</table>\n",
       "</div>"
      ],
      "text/plain": [
       "         Month                             Annual_Average_Inflation            \\\n",
       "          mean       std        var median                     mean       std   \n",
       "Year                                                                            \n",
       "2005  6.500000  3.605551  13.000000    6.5                13.105833  1.686478   \n",
       "2006  6.500000  3.605551  13.000000    6.5                 6.956667  1.376473   \n",
       "2007  6.500000  3.605551  13.000000    6.5                 4.765000  0.531764   \n",
       "2008  6.500000  3.605551  13.000000    6.5                10.286667  3.935956   \n",
       "2009  6.500000  3.605551  13.000000    6.5                14.111667  2.744578   \n",
       "2010  6.500000  3.605551  13.000000    6.5                 5.614167  1.568488   \n",
       "2011  6.500000  3.605551  13.000000    6.5                 7.991667  3.505351   \n",
       "2012  6.500000  3.605551  13.000000    6.5                14.277500  2.419711   \n",
       "2013  6.500000  3.605551  13.000000    6.5                 5.562500  1.171480   \n",
       "2014  6.500000  3.605551  13.000000    6.5                 6.810833  0.421156   \n",
       "2015  6.500000  3.605551  13.000000    6.5                 6.537500  0.156735   \n",
       "2016  6.500000  3.605551  13.000000    6.5                 6.575833  0.189039   \n",
       "2017  6.500000  3.605551  13.000000    6.5                 7.670833  0.790736   \n",
       "2018  6.500000  3.605551  13.000000    6.5                 5.587500  1.197324   \n",
       "2019  6.307692  3.520999  12.397436    6.0                 5.043077  0.255812   \n",
       "2020  1.500000  0.707107   0.500000    1.5                 5.385000  0.134350   \n",
       "\n",
       "                        Twelve_Month_Inflation                               \n",
       "            var  median                   mean       std        var  median  \n",
       "Year                                                                         \n",
       "2005   2.844208  13.155              10.116667  4.896109  23.971879  11.840  \n",
       "2006   1.894679   6.360               6.416667  1.859757   3.458697   6.240  \n",
       "2007   0.282773   4.570               4.265833  1.593067   2.537863   4.965  \n",
       "2008  15.491752  10.345              16.230833  3.528516  12.450427  17.850  \n",
       "2009   7.532706  14.730               9.385000  3.507290  12.301082   8.520  \n",
       "2010   2.460154   5.230               3.971667  0.850228   0.722888   3.750  \n",
       "2011  12.287488   7.380              13.975833  4.853828  23.559645  15.005  \n",
       "2012   5.855002  15.185               9.640000  5.447800  29.678527   8.895  \n",
       "2013   1.372366   5.220               5.715833  1.674631   2.804390   5.470  \n",
       "2014   0.177372   6.925               6.884167  0.713359   0.508881   6.730  \n",
       "2015   0.024566   6.605               6.575833  0.749915   0.562372   6.670  \n",
       "2016   0.035736   6.490               6.303333  0.719486   0.517661   6.375  \n",
       "2017   0.625263   8.055               8.018333  2.409601   5.806179   7.755  \n",
       "2018   1.433584   5.075               4.695000  0.742594   0.551445   4.405  \n",
       "2019   0.065440   5.160               5.228462  0.925868   0.857231   5.000  \n",
       "2020   0.018050   5.385               6.075000  0.417193   0.174050   6.075  "
      ]
     },
     "execution_count": 84,
     "metadata": {},
     "output_type": "execute_result"
    }
   ],
   "source": [
    "df2.groupby('Year').agg(['mean','std', 'var', 'median']) \n",
    "#Automatically sums on columns but you can specify axis using groupby('column', axis = 0)"
   ]
  },
  {
   "cell_type": "code",
   "execution_count": null,
   "metadata": {},
   "outputs": [],
   "source": [
    "sns.catplot"
   ]
  },
  {
   "cell_type": "markdown",
   "metadata": {},
   "source": [
    "Using Matplotlib to vizualize."
   ]
  },
  {
   "cell_type": "markdown",
   "metadata": {},
   "source": [
    "From the mean and the std, it doesnt seem like there any outliers but you can check outliers in different ways like plotting and checking for values above a certain treshhold."
   ]
  },
  {
   "cell_type": "code",
   "execution_count": 85,
   "metadata": {},
   "outputs": [
    {
     "data": {
      "text/html": [
       "<div>\n",
       "<style scoped>\n",
       "    .dataframe tbody tr th:only-of-type {\n",
       "        vertical-align: middle;\n",
       "    }\n",
       "\n",
       "    .dataframe tbody tr th {\n",
       "        vertical-align: top;\n",
       "    }\n",
       "\n",
       "    .dataframe thead th {\n",
       "        text-align: right;\n",
       "    }\n",
       "</style>\n",
       "<table border=\"1\" class=\"dataframe\">\n",
       "  <thead>\n",
       "    <tr style=\"text-align: right;\">\n",
       "      <th></th>\n",
       "      <th>Year</th>\n",
       "      <th>Month</th>\n",
       "      <th>Annual_Average_Inflation</th>\n",
       "      <th>Twelve_Month_Inflation</th>\n",
       "    </tr>\n",
       "    <tr>\n",
       "      <th>DATE</th>\n",
       "      <th></th>\n",
       "      <th></th>\n",
       "      <th></th>\n",
       "      <th></th>\n",
       "    </tr>\n",
       "  </thead>\n",
       "  <tbody>\n",
       "    <tr>\n",
       "      <th>2012-05-01</th>\n",
       "      <td>2012</td>\n",
       "      <td>5</td>\n",
       "      <td>16.40</td>\n",
       "      <td>12.22</td>\n",
       "    </tr>\n",
       "    <tr>\n",
       "      <th>2012-04-01</th>\n",
       "      <td>2012</td>\n",
       "      <td>4</td>\n",
       "      <td>16.50</td>\n",
       "      <td>13.06</td>\n",
       "    </tr>\n",
       "    <tr>\n",
       "      <th>2012-03-01</th>\n",
       "      <td>2012</td>\n",
       "      <td>3</td>\n",
       "      <td>16.45</td>\n",
       "      <td>15.61</td>\n",
       "    </tr>\n",
       "    <tr>\n",
       "      <th>2009-04-01</th>\n",
       "      <td>2009</td>\n",
       "      <td>4</td>\n",
       "      <td>16.72</td>\n",
       "      <td>12.42</td>\n",
       "    </tr>\n",
       "    <tr>\n",
       "      <th>2009-03-01</th>\n",
       "      <td>2009</td>\n",
       "      <td>3</td>\n",
       "      <td>17.07</td>\n",
       "      <td>14.60</td>\n",
       "    </tr>\n",
       "    <tr>\n",
       "      <th>2009-02-01</th>\n",
       "      <td>2009</td>\n",
       "      <td>2</td>\n",
       "      <td>16.87</td>\n",
       "      <td>14.69</td>\n",
       "    </tr>\n",
       "    <tr>\n",
       "      <th>2009-01-01</th>\n",
       "      <td>2009</td>\n",
       "      <td>1</td>\n",
       "      <td>16.56</td>\n",
       "      <td>13.22</td>\n",
       "    </tr>\n",
       "    <tr>\n",
       "      <th>2008-12-01</th>\n",
       "      <td>2008</td>\n",
       "      <td>12</td>\n",
       "      <td>16.27</td>\n",
       "      <td>17.83</td>\n",
       "    </tr>\n",
       "  </tbody>\n",
       "</table>\n",
       "</div>"
      ],
      "text/plain": [
       "            Year  Month  Annual_Average_Inflation  Twelve_Month_Inflation\n",
       "DATE                                                                     \n",
       "2012-05-01  2012      5                     16.40                   12.22\n",
       "2012-04-01  2012      4                     16.50                   13.06\n",
       "2012-03-01  2012      3                     16.45                   15.61\n",
       "2009-04-01  2009      4                     16.72                   12.42\n",
       "2009-03-01  2009      3                     17.07                   14.60\n",
       "2009-02-01  2009      2                     16.87                   14.69\n",
       "2009-01-01  2009      1                     16.56                   13.22\n",
       "2008-12-01  2008     12                     16.27                   17.83"
      ]
     },
     "execution_count": 85,
     "metadata": {},
     "output_type": "execute_result"
    }
   ],
   "source": [
    "df2[df2['Annual_Average_Inflation'] > 16]\n",
    "#Helps to check whether the if you consider 16 high enough."
   ]
  },
  {
   "cell_type": "code",
   "execution_count": 86,
   "metadata": {},
   "outputs": [
    {
     "data": {
      "image/png": "[encoded data removed]",
      "text/plain": [
       "<Figure size 720x360 with 1 Axes>"
      ]
     },
     "metadata": {
      "needs_background": "light"
     },
     "output_type": "display_data"
    }
   ],
   "source": [
    "df2['Twelve_Month_Inflation'].plot(figsize = (10,5))\n",
    "plt.title('Kenyan MoM Inflation')\n",
    "plt.show;\n",
    "#can also help locate outliers"
   ]
  },
  {
   "cell_type": "markdown",
   "metadata": {},
   "source": [
    "Covariance and correlation"
   ]
  },
  {
   "cell_type": "code",
   "execution_count": 87,
   "metadata": {},
   "outputs": [
    {
     "data": {
      "text/html": [
       "<div>\n",
       "<style scoped>\n",
       "    .dataframe tbody tr th:only-of-type {\n",
       "        vertical-align: middle;\n",
       "    }\n",
       "\n",
       "    .dataframe tbody tr th {\n",
       "        vertical-align: top;\n",
       "    }\n",
       "\n",
       "    .dataframe thead th {\n",
       "        text-align: right;\n",
       "    }\n",
       "</style>\n",
       "<table border=\"1\" class=\"dataframe\">\n",
       "  <thead>\n",
       "    <tr style=\"text-align: right;\">\n",
       "      <th></th>\n",
       "      <th>Month</th>\n",
       "      <th>Annual_Average_Inflation</th>\n",
       "      <th>Twelve_Month_Inflation</th>\n",
       "    </tr>\n",
       "  </thead>\n",
       "  <tbody>\n",
       "    <tr>\n",
       "      <th>Month</th>\n",
       "      <td>12.092836</td>\n",
       "      <td>-0.247713</td>\n",
       "      <td>-0.898704</td>\n",
       "    </tr>\n",
       "    <tr>\n",
       "      <th>Annual_Average_Inflation</th>\n",
       "      <td>-0.247713</td>\n",
       "      <td>13.278366</td>\n",
       "      <td>9.731744</td>\n",
       "    </tr>\n",
       "    <tr>\n",
       "      <th>Twelve_Month_Inflation</th>\n",
       "      <td>-0.898704</td>\n",
       "      <td>9.731744</td>\n",
       "      <td>18.868017</td>\n",
       "    </tr>\n",
       "  </tbody>\n",
       "</table>\n",
       "</div>"
      ],
      "text/plain": [
       "                              Month  Annual_Average_Inflation  \\\n",
       "Month                     12.092836                 -0.247713   \n",
       "Annual_Average_Inflation  -0.247713                 13.278366   \n",
       "Twelve_Month_Inflation    -0.898704                  9.731744   \n",
       "\n",
       "                          Twelve_Month_Inflation  \n",
       "Month                                  -0.898704  \n",
       "Annual_Average_Inflation                9.731744  \n",
       "Twelve_Month_Inflation                 18.868017  "
      ]
     },
     "execution_count": 87,
     "metadata": {},
     "output_type": "execute_result"
    }
   ],
   "source": [
    "df2.cov()"
   ]
  },
  {
   "cell_type": "code",
   "execution_count": 88,
   "metadata": {},
   "outputs": [
    {
     "data": {
      "text/html": [
       "<div>\n",
       "<style scoped>\n",
       "    .dataframe tbody tr th:only-of-type {\n",
       "        vertical-align: middle;\n",
       "    }\n",
       "\n",
       "    .dataframe tbody tr th {\n",
       "        vertical-align: top;\n",
       "    }\n",
       "\n",
       "    .dataframe thead th {\n",
       "        text-align: right;\n",
       "    }\n",
       "</style>\n",
       "<table border=\"1\" class=\"dataframe\">\n",
       "  <thead>\n",
       "    <tr style=\"text-align: right;\">\n",
       "      <th></th>\n",
       "      <th>Month</th>\n",
       "      <th>Annual_Average_Inflation</th>\n",
       "      <th>Twelve_Month_Inflation</th>\n",
       "    </tr>\n",
       "  </thead>\n",
       "  <tbody>\n",
       "    <tr>\n",
       "      <th>Month</th>\n",
       "      <td>1.000000</td>\n",
       "      <td>-0.019548</td>\n",
       "      <td>-0.059496</td>\n",
       "    </tr>\n",
       "    <tr>\n",
       "      <th>Annual_Average_Inflation</th>\n",
       "      <td>-0.019548</td>\n",
       "      <td>1.000000</td>\n",
       "      <td>0.614830</td>\n",
       "    </tr>\n",
       "    <tr>\n",
       "      <th>Twelve_Month_Inflation</th>\n",
       "      <td>-0.059496</td>\n",
       "      <td>0.614830</td>\n",
       "      <td>1.000000</td>\n",
       "    </tr>\n",
       "  </tbody>\n",
       "</table>\n",
       "</div>"
      ],
      "text/plain": [
       "                             Month  Annual_Average_Inflation  \\\n",
       "Month                     1.000000                 -0.019548   \n",
       "Annual_Average_Inflation -0.019548                  1.000000   \n",
       "Twelve_Month_Inflation   -0.059496                  0.614830   \n",
       "\n",
       "                          Twelve_Month_Inflation  \n",
       "Month                                  -0.059496  \n",
       "Annual_Average_Inflation                0.614830  \n",
       "Twelve_Month_Inflation                  1.000000  "
      ]
     },
     "execution_count": 88,
     "metadata": {},
     "output_type": "execute_result"
    }
   ],
   "source": [
    "df2.corr()"
   ]
  },
  {
   "cell_type": "code",
   "execution_count": null,
   "metadata": {},
   "outputs": [],
   "source": []
  }
 ],
 "metadata": {
  "kernelspec": {
   "display_name": "Python 3",
   "language": "python",
   "name": "python3"
  },
  "language_info": {
   "codemirror_mode": {
    "name": "ipython",
    "version": 3
   },
   "file_extension": ".py",
   "mimetype": "text/x-python",
   "name": "python",
   "nbconvert_exporter": "python",
   "pygments_lexer": "ipython3",
   "version": "3.7.3"
  }
 },
 "nbformat": 4,
 "nbformat_minor": 2
}
